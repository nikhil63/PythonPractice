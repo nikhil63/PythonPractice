{
  "nbformat": 4,
  "nbformat_minor": 0,
  "metadata": {
    "colab": {
      "name": "Assignment1.ipynb",
      "provenance": [],
      "collapsed_sections": []
    },
    "kernelspec": {
      "name": "python3",
      "display_name": "Python 3"
    },
    "language_info": {
      "name": "python"
    }
  },
  "cells": [
    {
      "cell_type": "markdown",
      "metadata": {
        "id": "LVNfnHf4TKUC"
      },
      "source": [
        "1. Write a program which will find all such numbers which are divisible by 7 but are not a multiple of 5, between 2000 and 3200 (both included). The numbers obtained should be printed  in a comma-separated sequence on a single line. \n",
        "2. Write a Python program to accept the user's first and last name and then getting them printed in the the reverse order with a space between first name and last name. \n",
        "3. Write a Python program to find the volume of a sphere with diameter 12 cm.Formula: V=4/3 * π * r 3 \n"
      ]
    },
    {
      "cell_type": "code",
      "metadata": {
        "colab": {
          "base_uri": "https://localhost:8080/"
        },
        "id": "o4Zq-o6tI2hH",
        "outputId": "b1b928ab-9ad7-4767-e509-2d2f94fcaad1"
      },
      "source": [
        "x=[]\n",
        "for i in range(200, 321):\n",
        "  if (i%7==0) & (i%5!=0):\n",
        "   x.append(i)\n",
        "\n",
        "x"
      ],
      "execution_count": null,
      "outputs": [
        {
          "output_type": "execute_result",
          "data": {
            "text/plain": [
              "[203, 217, 224, 231, 238, 252, 259, 266, 273, 287, 294, 301, 308]"
            ]
          },
          "metadata": {
            "tags": []
          },
          "execution_count": 26
        }
      ]
    },
    {
      "cell_type": "code",
      "metadata": {
        "id": "KTn6bmIZVnlu",
        "colab": {
          "base_uri": "https://localhost:8080/"
        },
        "outputId": "41d923b9-0154-49af-ec23-d9f70effafb5"
      },
      "source": [
        "from google.colab import drive\n",
        "drive.mount('/content/drive')"
      ],
      "execution_count": null,
      "outputs": [
        {
          "output_type": "stream",
          "text": [
            "Mounted at /content/drive\n"
          ],
          "name": "stdout"
        }
      ]
    },
    {
      "cell_type": "markdown",
      "metadata": {
        "id": "NcxZ0gulVrbv"
      },
      "source": [
        "# New Section"
      ]
    },
    {
      "cell_type": "code",
      "metadata": {
        "colab": {
          "base_uri": "https://localhost:8080/"
        },
        "id": "qsL6P4JFG7jb",
        "outputId": "084d4cf3-9c22-4916-bdad-0daddbb3c68f"
      },
      "source": [
        "first_name=input(\"enter your first name! \")\n",
        "last_name=input(\"last name please \")"
      ],
      "execution_count": null,
      "outputs": [
        {
          "output_type": "stream",
          "text": [
            "enter your first name! Nikhil\n",
            "last name please Shandilya\n"
          ],
          "name": "stdout"
        }
      ]
    },
    {
      "cell_type": "code",
      "metadata": {
        "colab": {
          "base_uri": "https://localhost:8080/"
        },
        "id": "zYtMgak7HK4F",
        "outputId": "b49ea2e6-484a-4ed7-ee9a-a7b5dcbf7635"
      },
      "source": [
        "name=[first_name, last_name]\n",
        "name[::-1]"
      ],
      "execution_count": null,
      "outputs": [
        {
          "output_type": "execute_result",
          "data": {
            "text/plain": [
              "['Shandilya', 'Nikhil']"
            ]
          },
          "metadata": {
            "tags": []
          },
          "execution_count": 5
        }
      ]
    },
    {
      "cell_type": "code",
      "metadata": {
        "colab": {
          "base_uri": "https://localhost:8080/"
        },
        "id": "aXK7d6aJHpU-",
        "outputId": "acfde37f-84ae-4c4d-89ca-93305604778c"
      },
      "source": [
        "radius=int(input(\"enter radius of the sphere \"))\n",
        "volume=(4/3 *3.14* radius**3)\n",
        "round(volume,4)"
      ],
      "execution_count": null,
      "outputs": [
        {
          "output_type": "stream",
          "text": [
            "enter radius of the sphere 5\n"
          ],
          "name": "stdout"
        },
        {
          "output_type": "execute_result",
          "data": {
            "text/plain": [
              "523.3333"
            ]
          },
          "metadata": {
            "tags": []
          },
          "execution_count": 12
        }
      ]
    }
  ]
}